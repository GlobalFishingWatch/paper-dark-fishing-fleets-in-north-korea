{
 "cells": [
  {
   "cell_type": "code",
   "execution_count": 34,
   "metadata": {},
   "outputs": [],
   "source": [
    "from __future__ import print_function\n",
    "from __future__ import division\n",
    "from collections import defaultdict, OrderedDict\n",
    "import calendar\n",
    "import datetime\n",
    "import dateutil.parser as dparser\n",
    "from glob import glob\n",
    "import logging\n",
    "import matplotlib.pyplot as plt\n",
    "import matplotlib.path as mplpath\n",
    "from matplotlib_scalebar.scalebar import ScaleBar\n",
    "import os\n",
    "import numpy as np\n",
    "import pandas as pd\n",
    "import skimage\n",
    "import skimage.io as skio\n",
    "from skimage import draw\n",
    "import subprocess\n",
    "import sys\n",
    "import time\n",
    "import ujson as json\n",
    "\n",
    "from optical_vessel_detection.core import img_utils as iutils \n",
    "from optical_vessel_detection.core import planet_utils as putils \n",
    "from optical_vessel_detection.core.annotation_utils import get_labeled_props\n",
    "\n",
    "from optical_vessel_detection.support.regions import approximate_simplified_nk_eez\n",
    "from optical_vessel_detection.support.regions import full_study_area\n",
    "from optical_vessel_detection.support.regions import reduced_study_area\n",
    "from optical_vessel_detection.support import notebook_utils\n",
    "from optical_vessel_detection.support.notebook_utils import path2sceneid, path2datestr\n",
    "from optical_vessel_detection.support.info import fully_annotated, aois_by_date\n",
    "from optical_vessel_detection.support import counting_tools\n",
    "%matplotlib inline\n",
    "\n",
    "proj_id = os.environ['PROJ_ID']"
   ]
  },
  {
   "cell_type": "markdown",
   "metadata": {},
   "source": [
    "## Process / Load Info\n",
    "\n",
    "\n",
    "These instructions are specific to GFW's setup. You will need to adapt this\n",
    "your specific situation. "
   ]
  },
  {
   "cell_type": "code",
   "execution_count": 35,
   "metadata": {},
   "outputs": [
    {
     "name": "stderr",
     "output_type": "stream",
     "text": [
      "Downloading: 100%|██████████| 83171/83171 [00:10<00:00, 8214.60rows/s]\n",
      "Downloading: 100%|██████████| 6920/6920 [00:01<00:00, 5809.44rows/s]\n"
     ]
    }
   ],
   "source": [
    "scene_map = notebook_utils.create_scene_map(\n",
    "    f'{proj_id}.machine_learning_production.planet_scene_info')\n",
    "\n",
    "detections_map = notebook_utils.create_detections_map(\n",
    "    f'{proj_id}.machine_learning_production.detected_pair_trawlers_1_1_aug')"
   ]
  },
  {
   "cell_type": "code",
   "execution_count": 36,
   "metadata": {},
   "outputs": [
    {
     "data": {
      "text/plain": [
       "array([[129.510458  ,  38.616667  ],\n",
       "       [131.419292  ,  41.610994  ],\n",
       "       [132.819292  ,  41.610994  ],\n",
       "       [134.55790047,  39.8625    ],\n",
       "       [134.191667  ,  39.8625    ],\n",
       "       [132.996667  ,  38.616667  ],\n",
       "       [129.510458  ,  38.616667  ]])"
      ]
     },
     "execution_count": 36,
     "metadata": {},
     "output_type": "execute_result"
    }
   ],
   "source": [
    "reduced_study_area"
   ]
  },
  {
   "cell_type": "code",
   "execution_count": 37,
   "metadata": {},
   "outputs": [
    {
     "name": "stdout",
     "output_type": "stream",
     "text": [
      "[38.616667 41.610994 41.610994 39.8625   39.8625   38.616667 38.616667]\n",
      "[38.616667 41.610994 41.610994 39.8625   39.8625   38.616667 38.616667]\n"
     ]
    },
    {
     "data": {
      "image/png": "[encoded data removed]",
      "text/plain": [
       "<Figure size 432x288 with 1 Axes>"
      ]
     },
     "metadata": {
      "needs_background": "light"
     },
     "output_type": "display_data"
    }
   ],
   "source": [
    "RASTER_SIZE = 1000\n",
    "valid_mask = np.zeros([RASTER_SIZE, RASTER_SIZE], dtype=bool)\n",
    "min_lon = min(reduced_study_area[:, 0])\n",
    "max_lon = max(reduced_study_area[:, 0])\n",
    "delta_lon = max_lon - min_lon\n",
    "min_lat = min(reduced_study_area[:, 1])\n",
    "max_lat = max(reduced_study_area[:, 1])\n",
    "delta_lat = max_lat - min_lat\n",
    "\n",
    "def lat2r(x):\n",
    "    x = np.asarray(x)\n",
    "    return (RASTER_SIZE - 1) * (max_lat - x) / delta_lat\n",
    "def r2lat(x):\n",
    "    x = np.asarray(x)\n",
    "    return max_lat - delta_lat * x / (RASTER_SIZE - 1)\n",
    "def lon2c(x):\n",
    "    x = np.asarray(x)\n",
    "    return (RASTER_SIZE - 1) * (x - min_lon) / delta_lon\n",
    "\n",
    "\n",
    "reduced_study_area_r = lat2r(reduced_study_area[:, 1]) \n",
    "reduced_study_area_c = lon2c(reduced_study_area[:, 0])\n",
    "\n",
    "rr, cc = draw.polygon(reduced_study_area_r, reduced_study_area_c, valid_mask.shape)\n",
    "valid_mask[rr, cc] = 1\n",
    "plt.imshow(valid_mask)\n",
    "\n",
    "print(reduced_study_area[:, 1])\n",
    "print(r2lat(lat2r(reduced_study_area[:, 1])))"
   ]
  },
  {
   "cell_type": "code",
   "execution_count": 38,
   "metadata": {},
   "outputs": [
    {
     "data": {
      "text/plain": [
       "<matplotlib.image.AxesImage at 0x7fad8967f110>"
      ]
     },
     "execution_count": 38,
     "metadata": {},
     "output_type": "execute_result"
    },
    {
     "data": {
      "image/png": "[encoded data removed]",
      "text/plain": [
       "<Figure size 864x864 with 1 Axes>"
      ]
     },
     "metadata": {
      "needs_background": "light"
     },
     "output_type": "display_data"
    }
   ],
   "source": [
    "def make_scene_mask(datestr):\n",
    "    scene_mask = np.zeros_like(valid_mask)\n",
    "    scenes = [v for (k, v) in scene_map.items() if k.startswith(datestr)]\n",
    "    for scene in scenes:\n",
    "        bounds = json.loads(scene.boundary)\n",
    "        lons = [y['lon'] for y in bounds]\n",
    "        lats = [y['lat'] for y in bounds]\n",
    "        rr, cc = draw.polygon(lat2r(lats), lon2c(lons), valid_mask.shape)\n",
    "        scene_mask[rr, cc] = 1\n",
    "    return scene_mask\n",
    "    \n",
    "    \n",
    "mask = make_scene_mask('20171024')\n",
    "plt.figure(figsize=(12, 12))\n",
    "plt.imshow(mask & valid_mask)"
   ]
  },
  {
   "cell_type": "code",
   "execution_count": 39,
   "metadata": {},
   "outputs": [
    {
     "name": "stdout",
     "output_type": "stream",
     "text": [
      "482517.65437918797\n",
      "0.9438406734454725\n"
     ]
    }
   ],
   "source": [
    "def mask_area(mask):\n",
    "    area = 0\n",
    "    for i, row in enumerate(mask):\n",
    "        scale = np.cos(np.radians(r2lat(i)))\n",
    "        area += scale * row.sum()\n",
    "    return area\n",
    "\n",
    "\n",
    "valid_area = mask_area(valid_mask)\n",
    "print(valid_area)\n",
    "print(mask_area(mask & valid_mask) / valid_area)"
   ]
  },
  {
   "cell_type": "markdown",
   "metadata": {},
   "source": [
    "## Plot Detections on Selected Days\n",
    "\n",
    "The plot code also determines scenes in AOIs and counts \n",
    "trawlers. "
   ]
  },
  {
   "cell_type": "code",
   "execution_count": 40,
   "metadata": {},
   "outputs": [],
   "source": [
    "skip_dates = ['20180917', '20180929']\n",
    "dates =  sorted([x for x in detections_map if x not in skip_dates])"
   ]
  },
  {
   "cell_type": "code",
   "execution_count": 41,
   "metadata": {},
   "outputs": [
    {
     "name": "stdout",
     "output_type": "stream",
     "text": [
      "Coverage fraction for 20170528 is 0.52\n",
      "Coverage fraction for 20170627 is 0.62\n",
      "Coverage fraction for 20170715 is 0.84\n",
      "Coverage fraction for 20170806 is 0.42\n",
      "Coverage fraction for 20170908 is 0.83\n",
      "Coverage fraction for 20170926 is 0.78\n",
      "Coverage fraction for 20171024 is 0.94\n",
      "Coverage fraction for 20171105 is 0.85\n",
      "Coverage fraction for 20180421 is 0.70\n",
      "Coverage fraction for 20180514 is 0.43\n",
      "Coverage fraction for 20180522 is 0.48\n",
      "Coverage fraction for 20180602 is 0.49\n",
      "Coverage fraction for 20180622 is 0.49\n",
      "Coverage fraction for 20180715 is 0.42\n",
      "Coverage fraction for 20180731 is 0.66\n",
      "Coverage fraction for 20180814 is 0.62\n",
      "Coverage fraction for 20180826 is 0.79\n",
      "Coverage fraction for 20180911 is 0.92\n",
      "Coverage fraction for 20180927 is 0.70\n",
      "Coverage fraction for 20181008 is 0.75\n",
      "Coverage fraction for 20181102 is 0.81\n",
      "Coverage fraction for 20181115 is 0.68\n",
      "Average coverage is 0.67\n"
     ]
    }
   ],
   "source": [
    "ratios = []\n",
    "for date in dates:\n",
    "    mask = make_scene_mask(date)\n",
    "    ratio = mask_area(mask & valid_mask) / valid_area\n",
    "    print('Coverage fraction for', date, 'is {:.2f}'.format(ratio))\n",
    "    ratios.append(ratio)\n",
    "print(\"Average coverage is {:.2f}\".format(np.mean(ratios)))"
   ]
  },
  {
   "cell_type": "code",
   "execution_count": 42,
   "metadata": {},
   "outputs": [
    {
     "data": {
      "text/plain": [
       "{'20170528': 0.5210641847298884,\n",
       " '20170627': 0.6183260838663743,\n",
       " '20170715': 0.8396126860449078,\n",
       " '20170806': 0.4223580290771403,\n",
       " '20170908': 0.8332248146391866,\n",
       " '20170926': 0.7778519796260764,\n",
       " '20171024': 0.9438406734454725,\n",
       " '20171105': 0.8508394225024478,\n",
       " '20180421': 0.6986587183723794,\n",
       " '20180514': 0.43473525847885897,\n",
       " '20180522': 0.48388633238800666,\n",
       " '20180602': 0.49375265654574724,\n",
       " '20180622': 0.4894118638827876,\n",
       " '20180715': 0.4191804107960002,\n",
       " '20180731': 0.6580150401027633,\n",
       " '20180814': 0.617136363125306,\n",
       " '20180826': 0.7897580379019252,\n",
       " '20180911': 0.9195351282667044,\n",
       " '20180927': 0.6985114595033236,\n",
       " '20181008': 0.7476910434337778,\n",
       " '20181102': 0.8053111881364282,\n",
       " '20181115': 0.6753961931848975}"
      ]
     },
     "execution_count": 42,
     "metadata": {},
     "output_type": "execute_result"
    }
   ],
   "source": [
    "coverage_ratio_map = {d : r for (d, r) in zip(dates, ratios)}\n",
    "coverage_ratio_map"
   ]
  },
  {
   "cell_type": "code",
   "execution_count": 43,
   "metadata": {},
   "outputs": [
    {
     "name": "stdout",
     "output_type": "stream",
     "text": [
      "Min coverage 0.4191804107960002\n",
      "Max coverage 0.9438406734454725\n"
     ]
    }
   ],
   "source": [
    "print(\"Min coverage\", min(ratios))\n",
    "print(\"Max coverage\", max(ratios))"
   ]
  }
 ],
 "metadata": {
  "kernelspec": {
   "display_name": "Python 3",
   "language": "python",
   "name": "python3"
  },
  "language_info": {
   "codemirror_mode": {
    "name": "ipython",
    "version": 3
   },
   "file_extension": ".py",
   "mimetype": "text/x-python",
   "name": "python",
   "nbconvert_exporter": "python",
   "pygments_lexer": "ipython3",
   "version": "3.7.6"
  }
 },
 "nbformat": 4,
 "nbformat_minor": 2
}
